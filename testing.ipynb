{
 "cells": [
  {
   "cell_type": "code",
   "execution_count": 1,
   "metadata": {
    "collapsed": true,
    "pycharm": {
     "is_executing": false
    }
   },
   "outputs": [
    {
     "name": "stderr",
     "text": [
      "Using TensorFlow backend.\n"
     ],
     "output_type": "stream"
    },
    {
     "name": "stdout",
     "text": [
      "WARNING:tensorflow:From /home/nithinsaripalli/PycharmProjects/ML/WomensMarchGenerator/lib64/python3.7/site-packages/tensorflow/python/framework/op_def_library.py:263: colocate_with (from tensorflow.python.framework.ops) is deprecated and will be removed in a future version.\nInstructions for updating:\nColocations handled automatically by placer.\n"
     ],
     "output_type": "stream"
    }
   ],
   "source": [
    "# -*- coding: utf-8 -*-\n",
    "import math\n",
    "import time\n",
    "from textgenrnn import textgenrnn\n",
    "from PIL import ImageFont\n",
    "from PIL import Image\n",
    "from PIL import ImageDraw"
   ]
  },
  {
   "cell_type": "code",
   "execution_count": 18,
   "outputs": [],
   "source": [
    "def split_lines(sentence):\n",
    "    words = sentence.split()\n",
    "    split_space = math.ceil(len(words) / 2)\n",
    "    return \" \".join(words[:split_space]), \" \".join(words[split_space:])"
   ],
   "metadata": {
    "collapsed": false,
    "pycharm": {
     "name": "#%%\n",
     "is_executing": false
    }
   }
  },
  {
   "cell_type": "code",
   "execution_count": 19,
   "outputs": [],
   "source": [
    "textgen_2 = textgenrnn('textgenrnn_weights.hdf5')"
   ],
   "metadata": {
    "collapsed": false,
    "pycharm": {
     "name": "#%%\n",
     "is_executing": false
    }
   }
  },
  {
   "cell_type": "code",
   "execution_count": 138,
   "outputs": [
    {
     "name": "stderr",
     "text": [
      "\r  0%|          | 0/10 [00:00<?, ?it/s]",
      "\r 10%|█         | 1/10 [00:01<00:11,  1.29s/it]",
      "\r 20%|██        | 2/10 [00:01<00:07,  1.03it/s]",
      "\r 30%|███       | 3/10 [00:01<00:05,  1.26it/s]",
      "\r 40%|████      | 4/10 [00:02<00:03,  1.54it/s]",
      "\r 50%|█████     | 5/10 [00:03<00:04,  1.25it/s]",
      "\r 60%|██████    | 6/10 [00:03<00:02,  1.52it/s]",
      "\r 70%|███████   | 7/10 [00:04<00:01,  1.70it/s]",
      "\r 80%|████████  | 8/10 [00:04<00:00,  2.01it/s]",
      "\r 90%|█████████ | 9/10 [00:04<00:00,  2.10it/s]",
      "\r100%|██████████| 10/10 [00:05<00:00,  1.52it/s]",
      "\n"
     ],
     "output_type": "stream"
    }
   ],
   "source": [
    "textOutput = textgen_2.generate(10, temperature=1, return_as_list=True)\n"
   ],
   "metadata": {
    "collapsed": false,
    "pycharm": {
     "name": "#%%\n",
     "is_executing": false
    }
   }
  },
  {
   "cell_type": "code",
   "execution_count": 143,
   "outputs": [],
   "source": [
    "x=0\n",
    "for str in textOutput:\n",
    "    x+=1\n",
    "\n",
    "# str = \"you use round to truncate. What you want is to do it one step recursively.\"\n",
    "# str = textOutput[0]\n",
    "    topString, bottomString= split_lines(str)\n",
    "    \n",
    "    filename=\"Esmeralda Chilapa-Marcelino.jpg\"\n",
    "    outputFileName=\"temp{}.jpg\".format(x)\n",
    "    \n",
    "    img = Image.open(filename)\n",
    "    imageSize = img.size\n",
    "    fontLocation = \"/home/nithinsaripalli/PycharmProjects/WomensMarchGenerator/Gaegu/Gaegu-Bold.ttf\"\n",
    "    \n",
    "    # find biggest font size that works\n",
    "    fontSize = int(imageSize[1] / 5)\n",
    "    font = ImageFont.truetype(fontLocation, fontSize)\n",
    "    topTextSize = font.getsize(topString)\n",
    "    bottomTextSize = font.getsize(bottomString)\n",
    "    while topTextSize[0] > imageSize[0] - 20 or bottomTextSize[0] > imageSize[0] - 20:\n",
    "        fontSize = fontSize - 1\n",
    "        font = ImageFont.truetype(fontLocation, fontSize)\n",
    "        topTextSize = font.getsize(topString)\n",
    "        bottomTextSize = font.getsize(bottomString)\n",
    "    \n",
    "    # find top centered position for top text\n",
    "    topTextPositionX = (imageSize[0] / 2) - (topTextSize[0] / 2)\n",
    "    topTextPositionY = 0\n",
    "    topTextPosition = (topTextPositionX, topTextPositionY)\n",
    "    \n",
    "    # find bottom centered position for bottom text\n",
    "    bottomTextPositionX = (imageSize[0] / 2) - (bottomTextSize[0] / 2)\n",
    "    bottomTextPositionY = imageSize[1] - bottomTextSize[1]\n",
    "    bottomTextPosition = (bottomTextPositionX, bottomTextPositionY)\n",
    "    \n",
    "    draw = ImageDraw.Draw(img)\n",
    "    \n",
    "    # draw outlines\n",
    "    # there may be a better way\n",
    "    outlineRange = int(fontSize / 15)\n",
    "    for x in range(-outlineRange, outlineRange + 1):\n",
    "        for y in range(-outlineRange, outlineRange + 1):\n",
    "            draw.text((topTextPosition[0] + x, topTextPosition[1] + y), topString, (0, 0, 0), font=font)\n",
    "            draw.text((bottomTextPosition[0] + x, bottomTextPosition[1] + y), bottomString, (0, 0, 0), font=font)\n",
    "    \n",
    "    draw.text(topTextPosition, topString, (255, 255, 255), font=font)\n",
    "    draw.text(bottomTextPosition, bottomString, (255, 255, 255), font=font)\n",
    "    \n",
    "    img.save(outputFileName)\n",
    "    "
   ],
   "metadata": {
    "collapsed": false,
    "pycharm": {
     "name": "#%%\n",
     "is_executing": false
    }
   }
  },
  {
   "cell_type": "code",
   "execution_count": 9,
   "outputs": [],
   "source": [
    "import pandas as pd\n"
   ],
   "metadata": {
    "collapsed": false,
    "pycharm": {
     "name": "#%%\n",
     "is_executing": false
    }
   }
  },
  {
   "cell_type": "code",
   "execution_count": 15,
   "outputs": [],
   "source": [
    "#!/usr/bin/python3.3\n",
    "import os.path\n",
    "import urllib.request\n",
    "\n",
    "data = pd.read_csv(\"exported_data.csv\")\n",
    "\n",
    "for index, row in data.iterrows():\n",
    "    link = row['url']\n",
    "    urllib.request.urlretrieve(link, \"yes/\" + row['value'])\n",
    "    "
   ],
   "metadata": {
    "collapsed": false,
    "pycharm": {
     "name": "#%%\n",
     "is_executing": false
    }
   }
  },
  {
   "cell_type": "code",
   "execution_count": 48,
   "outputs": [],
   "source": [
    "import os\n",
    "\n",
    "updated_list = []\n",
    "\n",
    "directory = os.fsencode(\"/home/nithinsaripalli/PycharmProjects/WomensMarchGenerator/yes/base_images\")\n",
    "\n",
    "for file in os.listdir(directory):\n",
    "     filename = os.fsdecode(file)\n",
    "     updated_list.append((data.loc[data['value'] == filename].values[0]))\n",
    "\n",
    "\n",
    "updated_df =pd.DataFrame(updated_list,columns=['label', 'value', 'url'])"
   ],
   "metadata": {
    "collapsed": false,
    "pycharm": {
     "name": "#%%\n",
     "is_executing": false
    }
   }
  },
  {
   "cell_type": "code",
   "execution_count": 49,
   "outputs": [
    {
     "data": {
      "text/plain": "                    label                  value  \\\n0           Heart Monster   101D0001_DSC4955.jpg   \n1                Feminism   101D0001_DSC3678.jpg   \n2               King Wins   100B0001_DSC2474.jpg   \n3              Resistance   100D0001_DSC2793.jpg   \n4              Resistance   100D0001_DSC3001.jpg   \n5                   Peace   100E0001_DSC7518.jpg   \n6              Trans Flag   101D0001_DSC3765.jpg   \n7       Love and Rainbows   101D0001_DSC3884.jpg   \n8                   Peace   100B0001_DSC1729.jpg   \n9               Girl Cats   101D0001_DSC3671.jpg   \n10                  Heart  100D3200_DSC_0427.jpg   \n11                  Kitty   100D0001_DSC2732.jpg   \n12      Protesting Uterus   100D3200_DSC6216.jpg   \n13                  Peace   101D0001_DSC3732.jpg   \n14                 Uterus   100D3200_DSC6205.jpg   \n15                Sparkle   100D3200_DSC6769.jpg   \n16  Three Little Drawings   101D0001_DSC3899.jpg   \n17     Delete His Acoount  100D3200_DSC_0348.jpg   \n18          Rainbow Heart   100D3200_DSC6797.jpg   \n19     Peace and Equality   100B0001_DSC1781.jpg   \n20          Yelling Woman   100D0001_DSC2905.jpg   \n21                  Alien   100E0001_DSC7520.jpg   \n22            Smiley Face   100J0001_DSC3762.jpg   \n23     Feminism and peace   100D3200_DSC5348.jpg   \n24              Teal Bush   100D0001_DSC2837.jpg   \n25                 Uterus  100D3200_DSC_0121.jpg   \n26              All Equal   100J0001_DSC3778.jpg   \n27               Pink Hat   100J0001_DSC3992.jpg   \n28              Girl Love   101D0001_DSC4544.jpg   \n29         Glitter Flower   100D3200_DSC6325.jpg   \n..                    ...                    ...   \n63               Feminism  100D3200_DSC_0346.jpg   \n64                 Safety   101D0001_DSC4690.jpg   \n65             Green Star  100D3200_DSC_0705.jpg   \n66                   Flag   101D0001_DSC4873.jpg   \n67              Scribbles   100D0001_DSC2677.jpg   \n68                  Heart   100B0001_DSC2137.jpg   \n69               Equality   100B0001_DSC2222.jpg   \n70      Unhappy Jellyfish   100D0001_DSC2921.jpg   \n71                Rainbow   101D0001_DSC4589.jpg   \n72             Can't Hang   100D3200_DSC5604.jpg   \n73                 Statue   100D3200_DSC5225.jpg   \n74             Nazi Trump   100E0001_DSC7499.jpg   \n75         Feminism Peace   100D3200_DSC6831.jpg   \n76                 Safety   100D3200_DSC6286.jpg   \n77     Shattering silence   100D0001_DSC3004.jpg   \n78      Speckle Mouth Boy   100D0001_DSC2640.jpg   \n79           Love for All   100B0001_DSC2338.jpg   \n80                   WTF!   100D3200_DSC5779.jpg   \n81           Rainbow Flag   101D0001_DSC4590.jpg   \n82                  Peace   100E0001_DSC7488.jpg   \n83            Sisterhood!   100J0001_DSC3897.jpg   \n84  Human Rights Campaign   100D0001_DSC3036.jpg   \n85     Purple Raised Fist  100D3200_DSC_0347.jpg   \n86                 Handle   100D3200_DSC5420.jpg   \n87                 Gender   101D0001_DSC4720.jpg   \n88                  Peace   101D0001_DSC4580.jpg   \n89                  Earth  100D3200_DSC_0064.jpg   \n90           Lady Liberty  100D3200_DSC_0771.jpg   \n91           Love > Money   100E0001_DSC7445.jpg   \n92                  Heart   100D0001_DSC2972.jpg   \n\n                                                  url  \n0   https://s3.us-east-2.amazonaws.com/artofthemar...  \n1   https://s3.us-east-2.amazonaws.com/artofthemar...  \n2   https://s3.us-east-2.amazonaws.com/artofthemar...  \n3   https://s3.us-east-2.amazonaws.com/artofthemar...  \n4   https://s3.us-east-2.amazonaws.com/artofthemar...  \n5   https://s3.us-east-2.amazonaws.com/artofthemar...  \n6   https://s3.us-east-2.amazonaws.com/artofthemar...  \n7   https://s3.us-east-2.amazonaws.com/artofthemar...  \n8   https://s3.us-east-2.amazonaws.com/artofthemar...  \n9   https://s3.us-east-2.amazonaws.com/artofthemar...  \n10  https://s3.us-east-2.amazonaws.com/artofthemar...  \n11  https://s3.us-east-2.amazonaws.com/artofthemar...  \n12  https://s3.us-east-2.amazonaws.com/artofthemar...  \n13  https://s3.us-east-2.amazonaws.com/artofthemar...  \n14  https://s3.us-east-2.amazonaws.com/artofthemar...  \n15  https://s3.us-east-2.amazonaws.com/artofthemar...  \n16  https://s3.us-east-2.amazonaws.com/artofthemar...  \n17  https://s3.us-east-2.amazonaws.com/artofthemar...  \n18  https://s3.us-east-2.amazonaws.com/artofthemar...  \n19  https://s3.us-east-2.amazonaws.com/artofthemar...  \n20  https://s3.us-east-2.amazonaws.com/artofthemar...  \n21  https://s3.us-east-2.amazonaws.com/artofthemar...  \n22  https://s3.us-east-2.amazonaws.com/artofthemar...  \n23  https://s3.us-east-2.amazonaws.com/artofthemar...  \n24  https://s3.us-east-2.amazonaws.com/artofthemar...  \n25  https://s3.us-east-2.amazonaws.com/artofthemar...  \n26  https://s3.us-east-2.amazonaws.com/artofthemar...  \n27  https://s3.us-east-2.amazonaws.com/artofthemar...  \n28  https://s3.us-east-2.amazonaws.com/artofthemar...  \n29  https://s3.us-east-2.amazonaws.com/artofthemar...  \n..                                                ...  \n63  https://s3.us-east-2.amazonaws.com/artofthemar...  \n64  https://s3.us-east-2.amazonaws.com/artofthemar...  \n65  https://s3.us-east-2.amazonaws.com/artofthemar...  \n66  https://s3.us-east-2.amazonaws.com/artofthemar...  \n67  https://s3.us-east-2.amazonaws.com/artofthemar...  \n68  https://s3.us-east-2.amazonaws.com/artofthemar...  \n69  https://s3.us-east-2.amazonaws.com/artofthemar...  \n70  https://s3.us-east-2.amazonaws.com/artofthemar...  \n71  https://s3.us-east-2.amazonaws.com/artofthemar...  \n72  https://s3.us-east-2.amazonaws.com/artofthemar...  \n73  https://s3.us-east-2.amazonaws.com/artofthemar...  \n74  https://s3.us-east-2.amazonaws.com/artofthemar...  \n75  https://s3.us-east-2.amazonaws.com/artofthemar...  \n76  https://s3.us-east-2.amazonaws.com/artofthemar...  \n77  https://s3.us-east-2.amazonaws.com/artofthemar...  \n78  https://s3.us-east-2.amazonaws.com/artofthemar...  \n79  https://s3.us-east-2.amazonaws.com/artofthemar...  \n80  https://s3.us-east-2.amazonaws.com/artofthemar...  \n81  https://s3.us-east-2.amazonaws.com/artofthemar...  \n82  https://s3.us-east-2.amazonaws.com/artofthemar...  \n83  https://s3.us-east-2.amazonaws.com/artofthemar...  \n84  https://s3.us-east-2.amazonaws.com/artofthemar...  \n85  https://s3.us-east-2.amazonaws.com/artofthemar...  \n86  https://s3.us-east-2.amazonaws.com/artofthemar...  \n87  https://s3.us-east-2.amazonaws.com/artofthemar...  \n88  https://s3.us-east-2.amazonaws.com/artofthemar...  \n89  https://s3.us-east-2.amazonaws.com/artofthemar...  \n90  https://s3.us-east-2.amazonaws.com/artofthemar...  \n91  https://s3.us-east-2.amazonaws.com/artofthemar...  \n92  https://s3.us-east-2.amazonaws.com/artofthemar...  \n\n[93 rows x 3 columns]",
      "text/html": "<div>\n<style scoped>\n    .dataframe tbody tr th:only-of-type {\n        vertical-align: middle;\n    }\n\n    .dataframe tbody tr th {\n        vertical-align: top;\n    }\n\n    .dataframe thead th {\n        text-align: right;\n    }\n</style>\n<table border=\"1\" class=\"dataframe\">\n  <thead>\n    <tr style=\"text-align: right;\">\n      <th></th>\n      <th>label</th>\n      <th>value</th>\n      <th>url</th>\n    </tr>\n  </thead>\n  <tbody>\n    <tr>\n      <th>0</th>\n      <td>Heart Monster</td>\n      <td>101D0001_DSC4955.jpg</td>\n      <td>https://s3.us-east-2.amazonaws.com/artofthemar...</td>\n    </tr>\n    <tr>\n      <th>1</th>\n      <td>Feminism</td>\n      <td>101D0001_DSC3678.jpg</td>\n      <td>https://s3.us-east-2.amazonaws.com/artofthemar...</td>\n    </tr>\n    <tr>\n      <th>2</th>\n      <td>King Wins</td>\n      <td>100B0001_DSC2474.jpg</td>\n      <td>https://s3.us-east-2.amazonaws.com/artofthemar...</td>\n    </tr>\n    <tr>\n      <th>3</th>\n      <td>Resistance</td>\n      <td>100D0001_DSC2793.jpg</td>\n      <td>https://s3.us-east-2.amazonaws.com/artofthemar...</td>\n    </tr>\n    <tr>\n      <th>4</th>\n      <td>Resistance</td>\n      <td>100D0001_DSC3001.jpg</td>\n      <td>https://s3.us-east-2.amazonaws.com/artofthemar...</td>\n    </tr>\n    <tr>\n      <th>5</th>\n      <td>Peace</td>\n      <td>100E0001_DSC7518.jpg</td>\n      <td>https://s3.us-east-2.amazonaws.com/artofthemar...</td>\n    </tr>\n    <tr>\n      <th>6</th>\n      <td>Trans Flag</td>\n      <td>101D0001_DSC3765.jpg</td>\n      <td>https://s3.us-east-2.amazonaws.com/artofthemar...</td>\n    </tr>\n    <tr>\n      <th>7</th>\n      <td>Love and Rainbows</td>\n      <td>101D0001_DSC3884.jpg</td>\n      <td>https://s3.us-east-2.amazonaws.com/artofthemar...</td>\n    </tr>\n    <tr>\n      <th>8</th>\n      <td>Peace</td>\n      <td>100B0001_DSC1729.jpg</td>\n      <td>https://s3.us-east-2.amazonaws.com/artofthemar...</td>\n    </tr>\n    <tr>\n      <th>9</th>\n      <td>Girl Cats</td>\n      <td>101D0001_DSC3671.jpg</td>\n      <td>https://s3.us-east-2.amazonaws.com/artofthemar...</td>\n    </tr>\n    <tr>\n      <th>10</th>\n      <td>Heart</td>\n      <td>100D3200_DSC_0427.jpg</td>\n      <td>https://s3.us-east-2.amazonaws.com/artofthemar...</td>\n    </tr>\n    <tr>\n      <th>11</th>\n      <td>Kitty</td>\n      <td>100D0001_DSC2732.jpg</td>\n      <td>https://s3.us-east-2.amazonaws.com/artofthemar...</td>\n    </tr>\n    <tr>\n      <th>12</th>\n      <td>Protesting Uterus</td>\n      <td>100D3200_DSC6216.jpg</td>\n      <td>https://s3.us-east-2.amazonaws.com/artofthemar...</td>\n    </tr>\n    <tr>\n      <th>13</th>\n      <td>Peace</td>\n      <td>101D0001_DSC3732.jpg</td>\n      <td>https://s3.us-east-2.amazonaws.com/artofthemar...</td>\n    </tr>\n    <tr>\n      <th>14</th>\n      <td>Uterus</td>\n      <td>100D3200_DSC6205.jpg</td>\n      <td>https://s3.us-east-2.amazonaws.com/artofthemar...</td>\n    </tr>\n    <tr>\n      <th>15</th>\n      <td>Sparkle</td>\n      <td>100D3200_DSC6769.jpg</td>\n      <td>https://s3.us-east-2.amazonaws.com/artofthemar...</td>\n    </tr>\n    <tr>\n      <th>16</th>\n      <td>Three Little Drawings</td>\n      <td>101D0001_DSC3899.jpg</td>\n      <td>https://s3.us-east-2.amazonaws.com/artofthemar...</td>\n    </tr>\n    <tr>\n      <th>17</th>\n      <td>Delete His Acoount</td>\n      <td>100D3200_DSC_0348.jpg</td>\n      <td>https://s3.us-east-2.amazonaws.com/artofthemar...</td>\n    </tr>\n    <tr>\n      <th>18</th>\n      <td>Rainbow Heart</td>\n      <td>100D3200_DSC6797.jpg</td>\n      <td>https://s3.us-east-2.amazonaws.com/artofthemar...</td>\n    </tr>\n    <tr>\n      <th>19</th>\n      <td>Peace and Equality</td>\n      <td>100B0001_DSC1781.jpg</td>\n      <td>https://s3.us-east-2.amazonaws.com/artofthemar...</td>\n    </tr>\n    <tr>\n      <th>20</th>\n      <td>Yelling Woman</td>\n      <td>100D0001_DSC2905.jpg</td>\n      <td>https://s3.us-east-2.amazonaws.com/artofthemar...</td>\n    </tr>\n    <tr>\n      <th>21</th>\n      <td>Alien</td>\n      <td>100E0001_DSC7520.jpg</td>\n      <td>https://s3.us-east-2.amazonaws.com/artofthemar...</td>\n    </tr>\n    <tr>\n      <th>22</th>\n      <td>Smiley Face</td>\n      <td>100J0001_DSC3762.jpg</td>\n      <td>https://s3.us-east-2.amazonaws.com/artofthemar...</td>\n    </tr>\n    <tr>\n      <th>23</th>\n      <td>Feminism and peace</td>\n      <td>100D3200_DSC5348.jpg</td>\n      <td>https://s3.us-east-2.amazonaws.com/artofthemar...</td>\n    </tr>\n    <tr>\n      <th>24</th>\n      <td>Teal Bush</td>\n      <td>100D0001_DSC2837.jpg</td>\n      <td>https://s3.us-east-2.amazonaws.com/artofthemar...</td>\n    </tr>\n    <tr>\n      <th>25</th>\n      <td>Uterus</td>\n      <td>100D3200_DSC_0121.jpg</td>\n      <td>https://s3.us-east-2.amazonaws.com/artofthemar...</td>\n    </tr>\n    <tr>\n      <th>26</th>\n      <td>All Equal</td>\n      <td>100J0001_DSC3778.jpg</td>\n      <td>https://s3.us-east-2.amazonaws.com/artofthemar...</td>\n    </tr>\n    <tr>\n      <th>27</th>\n      <td>Pink Hat</td>\n      <td>100J0001_DSC3992.jpg</td>\n      <td>https://s3.us-east-2.amazonaws.com/artofthemar...</td>\n    </tr>\n    <tr>\n      <th>28</th>\n      <td>Girl Love</td>\n      <td>101D0001_DSC4544.jpg</td>\n      <td>https://s3.us-east-2.amazonaws.com/artofthemar...</td>\n    </tr>\n    <tr>\n      <th>29</th>\n      <td>Glitter Flower</td>\n      <td>100D3200_DSC6325.jpg</td>\n      <td>https://s3.us-east-2.amazonaws.com/artofthemar...</td>\n    </tr>\n    <tr>\n      <th>...</th>\n      <td>...</td>\n      <td>...</td>\n      <td>...</td>\n    </tr>\n    <tr>\n      <th>63</th>\n      <td>Feminism</td>\n      <td>100D3200_DSC_0346.jpg</td>\n      <td>https://s3.us-east-2.amazonaws.com/artofthemar...</td>\n    </tr>\n    <tr>\n      <th>64</th>\n      <td>Safety</td>\n      <td>101D0001_DSC4690.jpg</td>\n      <td>https://s3.us-east-2.amazonaws.com/artofthemar...</td>\n    </tr>\n    <tr>\n      <th>65</th>\n      <td>Green Star</td>\n      <td>100D3200_DSC_0705.jpg</td>\n      <td>https://s3.us-east-2.amazonaws.com/artofthemar...</td>\n    </tr>\n    <tr>\n      <th>66</th>\n      <td>Flag</td>\n      <td>101D0001_DSC4873.jpg</td>\n      <td>https://s3.us-east-2.amazonaws.com/artofthemar...</td>\n    </tr>\n    <tr>\n      <th>67</th>\n      <td>Scribbles</td>\n      <td>100D0001_DSC2677.jpg</td>\n      <td>https://s3.us-east-2.amazonaws.com/artofthemar...</td>\n    </tr>\n    <tr>\n      <th>68</th>\n      <td>Heart</td>\n      <td>100B0001_DSC2137.jpg</td>\n      <td>https://s3.us-east-2.amazonaws.com/artofthemar...</td>\n    </tr>\n    <tr>\n      <th>69</th>\n      <td>Equality</td>\n      <td>100B0001_DSC2222.jpg</td>\n      <td>https://s3.us-east-2.amazonaws.com/artofthemar...</td>\n    </tr>\n    <tr>\n      <th>70</th>\n      <td>Unhappy Jellyfish</td>\n      <td>100D0001_DSC2921.jpg</td>\n      <td>https://s3.us-east-2.amazonaws.com/artofthemar...</td>\n    </tr>\n    <tr>\n      <th>71</th>\n      <td>Rainbow</td>\n      <td>101D0001_DSC4589.jpg</td>\n      <td>https://s3.us-east-2.amazonaws.com/artofthemar...</td>\n    </tr>\n    <tr>\n      <th>72</th>\n      <td>Can't Hang</td>\n      <td>100D3200_DSC5604.jpg</td>\n      <td>https://s3.us-east-2.amazonaws.com/artofthemar...</td>\n    </tr>\n    <tr>\n      <th>73</th>\n      <td>Statue</td>\n      <td>100D3200_DSC5225.jpg</td>\n      <td>https://s3.us-east-2.amazonaws.com/artofthemar...</td>\n    </tr>\n    <tr>\n      <th>74</th>\n      <td>Nazi Trump</td>\n      <td>100E0001_DSC7499.jpg</td>\n      <td>https://s3.us-east-2.amazonaws.com/artofthemar...</td>\n    </tr>\n    <tr>\n      <th>75</th>\n      <td>Feminism Peace</td>\n      <td>100D3200_DSC6831.jpg</td>\n      <td>https://s3.us-east-2.amazonaws.com/artofthemar...</td>\n    </tr>\n    <tr>\n      <th>76</th>\n      <td>Safety</td>\n      <td>100D3200_DSC6286.jpg</td>\n      <td>https://s3.us-east-2.amazonaws.com/artofthemar...</td>\n    </tr>\n    <tr>\n      <th>77</th>\n      <td>Shattering silence</td>\n      <td>100D0001_DSC3004.jpg</td>\n      <td>https://s3.us-east-2.amazonaws.com/artofthemar...</td>\n    </tr>\n    <tr>\n      <th>78</th>\n      <td>Speckle Mouth Boy</td>\n      <td>100D0001_DSC2640.jpg</td>\n      <td>https://s3.us-east-2.amazonaws.com/artofthemar...</td>\n    </tr>\n    <tr>\n      <th>79</th>\n      <td>Love for All</td>\n      <td>100B0001_DSC2338.jpg</td>\n      <td>https://s3.us-east-2.amazonaws.com/artofthemar...</td>\n    </tr>\n    <tr>\n      <th>80</th>\n      <td>WTF!</td>\n      <td>100D3200_DSC5779.jpg</td>\n      <td>https://s3.us-east-2.amazonaws.com/artofthemar...</td>\n    </tr>\n    <tr>\n      <th>81</th>\n      <td>Rainbow Flag</td>\n      <td>101D0001_DSC4590.jpg</td>\n      <td>https://s3.us-east-2.amazonaws.com/artofthemar...</td>\n    </tr>\n    <tr>\n      <th>82</th>\n      <td>Peace</td>\n      <td>100E0001_DSC7488.jpg</td>\n      <td>https://s3.us-east-2.amazonaws.com/artofthemar...</td>\n    </tr>\n    <tr>\n      <th>83</th>\n      <td>Sisterhood!</td>\n      <td>100J0001_DSC3897.jpg</td>\n      <td>https://s3.us-east-2.amazonaws.com/artofthemar...</td>\n    </tr>\n    <tr>\n      <th>84</th>\n      <td>Human Rights Campaign</td>\n      <td>100D0001_DSC3036.jpg</td>\n      <td>https://s3.us-east-2.amazonaws.com/artofthemar...</td>\n    </tr>\n    <tr>\n      <th>85</th>\n      <td>Purple Raised Fist</td>\n      <td>100D3200_DSC_0347.jpg</td>\n      <td>https://s3.us-east-2.amazonaws.com/artofthemar...</td>\n    </tr>\n    <tr>\n      <th>86</th>\n      <td>Handle</td>\n      <td>100D3200_DSC5420.jpg</td>\n      <td>https://s3.us-east-2.amazonaws.com/artofthemar...</td>\n    </tr>\n    <tr>\n      <th>87</th>\n      <td>Gender</td>\n      <td>101D0001_DSC4720.jpg</td>\n      <td>https://s3.us-east-2.amazonaws.com/artofthemar...</td>\n    </tr>\n    <tr>\n      <th>88</th>\n      <td>Peace</td>\n      <td>101D0001_DSC4580.jpg</td>\n      <td>https://s3.us-east-2.amazonaws.com/artofthemar...</td>\n    </tr>\n    <tr>\n      <th>89</th>\n      <td>Earth</td>\n      <td>100D3200_DSC_0064.jpg</td>\n      <td>https://s3.us-east-2.amazonaws.com/artofthemar...</td>\n    </tr>\n    <tr>\n      <th>90</th>\n      <td>Lady Liberty</td>\n      <td>100D3200_DSC_0771.jpg</td>\n      <td>https://s3.us-east-2.amazonaws.com/artofthemar...</td>\n    </tr>\n    <tr>\n      <th>91</th>\n      <td>Love &gt; Money</td>\n      <td>100E0001_DSC7445.jpg</td>\n      <td>https://s3.us-east-2.amazonaws.com/artofthemar...</td>\n    </tr>\n    <tr>\n      <th>92</th>\n      <td>Heart</td>\n      <td>100D0001_DSC2972.jpg</td>\n      <td>https://s3.us-east-2.amazonaws.com/artofthemar...</td>\n    </tr>\n  </tbody>\n</table>\n<p>93 rows × 3 columns</p>\n</div>"
     },
     "metadata": {},
     "output_type": "execute_result",
     "execution_count": 49
    }
   ],
   "source": [
    "updated_df\n"
   ],
   "metadata": {
    "collapsed": false,
    "pycharm": {
     "name": "#%%\n",
     "is_executing": false
    }
   }
  },
  {
   "cell_type": "code",
   "execution_count": 67,
   "outputs": [],
   "source": [
    "updated_df.drop(\"url\", axis=1).to_csv(\"dropdown_options.csv\", index_label=False, index=False)\n"
   ],
   "metadata": {
    "collapsed": false,
    "pycharm": {
     "name": "#%%\n",
     "is_executing": false
    }
   }
  },
  {
   "cell_type": "code",
   "execution_count": 82,
   "outputs": [
    {
     "data": {
      "text/plain": "'101D0001_DSC4955.jpg'"
     },
     "metadata": {},
     "output_type": "execute_result",
     "execution_count": 82
    }
   ],
   "source": [
    "list(updated_df['value'])[0]\n"
   ],
   "metadata": {
    "collapsed": false,
    "pycharm": {
     "name": "#%%\n",
     "is_executing": false
    }
   }
  }
 ],
 "metadata": {
  "language_info": {
   "codemirror_mode": {
    "name": "ipython",
    "version": 2
   },
   "file_extension": ".py",
   "mimetype": "text/x-python",
   "name": "python",
   "nbconvert_exporter": "python",
   "pygments_lexer": "ipython2",
   "version": "2.7.6"
  },
  "kernelspec": {
   "name": "python3",
   "language": "python",
   "display_name": "Python 3"
  },
  "pycharm": {
   "stem_cell": {
    "cell_type": "raw",
    "source": [],
    "metadata": {
     "collapsed": false
    }
   }
  }
 },
 "nbformat": 4,
 "nbformat_minor": 0
}